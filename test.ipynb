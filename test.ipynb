{
 "cells": [
  {
   "cell_type": "code",
   "execution_count": 10,
   "metadata": {},
   "outputs": [],
   "source": [
    "import Matrices as mat"
   ]
  },
  {
   "cell_type": "code",
   "execution_count": 11,
   "metadata": {},
   "outputs": [
    {
     "name": "stdout",
     "output_type": "stream",
     "text": [
      "Solution: [2.0, 3.0000000000000004, -0.9999999999999999]\n"
     ]
    }
   ],
   "source": [
    "def solve_linear_system(A, b):\n",
    "    # Construct augmented matrix [A | b]\n",
    "    augmented_matrix = [row + [bi] for row, bi in zip(A, b)]\n",
    "\n",
    "    # Gaussian Elimination\n",
    "    for i in range(len(augmented_matrix)-1):\n",
    "        pivot_row = max(range(i, len(augmented_matrix)), key=lambda j: abs(augmented_matrix[j][i]))\n",
    "        augmented_matrix[i], augmented_matrix[pivot_row] = augmented_matrix[pivot_row], augmented_matrix[i]\n",
    "        \n",
    "        pivot = augmented_matrix[i][i]\n",
    "        for j in range(i+1, len(augmented_matrix)):\n",
    "            factor = augmented_matrix[j][i] / pivot\n",
    "            for k in range(i, len(augmented_matrix[0])):\n",
    "                augmented_matrix[j][k] -= factor * augmented_matrix[i][k]\n",
    "\n",
    "    # Back Substitution\n",
    "    x = [0] * len(A[0])\n",
    "    for i in range(len(augmented_matrix)-1, -1, -1):\n",
    "        x[i] = augmented_matrix[i][-1]\n",
    "        for j in range(i+1, len(augmented_matrix[0])-1):\n",
    "            x[i] -= augmented_matrix[i][j] * x[j]\n",
    "        x[i] /= augmented_matrix[i][i]\n",
    "\n",
    "    return x\n",
    "\n",
    "# Example usage:\n",
    "A = [[2, 1, -1],\n",
    "     [-3, -1, 2],\n",
    "     [-2, 1, 2]]\n",
    "b = [8, -11, -3]\n",
    "\n",
    "solution = solve_linear_system(A, b)\n",
    "print(\"Solution:\", solution)\n"
   ]
  },
  {
   "cell_type": "code",
   "execution_count": 12,
   "metadata": {},
   "outputs": [
    {
     "name": "stdout",
     "output_type": "stream",
     "text": [
      "[0, 0, 0]\n",
      "[0, 1, 1]\n",
      "[1, 1, 1]\n"
     ]
    }
   ],
   "source": [
    "def threshold_matrix(matrix, threshold):\n",
    "    binary_matrix = []\n",
    "    for row in matrix:\n",
    "        binary_row = [1 if element >= threshold else 0 for element in row]\n",
    "        binary_matrix.append(binary_row)\n",
    "    return binary_matrix\n",
    "\n",
    "# Example usage:\n",
    "numerical_matrix = [\n",
    "    [1, 2, 3],\n",
    "    [4, 5, 6],\n",
    "    [7, 8, 9]\n",
    "]\n",
    "threshold = 5\n",
    "\n",
    "binary_matrix = threshold_matrix(numerical_matrix, threshold)\n",
    "for row in binary_matrix:\n",
    "    print(row)"
   ]
  },
  {
   "cell_type": "code",
   "execution_count": 13,
   "metadata": {},
   "outputs": [
    {
     "name": "stdout",
     "output_type": "stream",
     "text": [
      "(2, 1, -1)\n",
      "(-3, -1, 2)\n",
      "(-2, 1, 2)\n"
     ]
    }
   ],
   "source": [
    "A = mat.Matrix([\n",
    "    [2, 1, -1],\n",
    "    [-3, -1, 2],\n",
    "    [-2, 1, 2]\n",
    "    ])\n",
    "print(A)"
   ]
  },
  {
   "cell_type": "code",
   "execution_count": 14,
   "metadata": {},
   "outputs": [
    {
     "name": "stdout",
     "output_type": "stream",
     "text": [
      "(2, -3, -2)\n",
      "(1, -1, 1)\n",
      "(-1, 2, 2)\n"
     ]
    }
   ],
   "source": [
    "print(A.transpose())"
   ]
  },
  {
   "cell_type": "code",
   "execution_count": 15,
   "metadata": {},
   "outputs": [
    {
     "data": {
      "text/plain": [
       "generator"
      ]
     },
     "execution_count": 15,
     "metadata": {},
     "output_type": "execute_result"
    }
   ],
   "source": [
    "type((i for i in range(10)))"
   ]
  },
  {
   "cell_type": "code",
   "execution_count": 16,
   "metadata": {},
   "outputs": [
    {
     "name": "stdout",
     "output_type": "stream",
     "text": [
      "(4, 3, -1)\n",
      "(-2, -2, 1)\n",
      "(5, 4, -1)\n"
     ]
    }
   ],
   "source": [
    "print(A.inverse().toInt())"
   ]
  },
  {
   "cell_type": "code",
   "execution_count": null,
   "metadata": {},
   "outputs": [],
   "source": [
    "mat.powerItEigenvalue(A)"
   ]
  },
  {
   "cell_type": "code",
   "execution_count": 17,
   "metadata": {},
   "outputs": [
    {
     "ename": "AttributeError",
     "evalue": "'Matrix' object has no attribute 'powerItEigenvalue'",
     "output_type": "error",
     "traceback": [
      "\u001b[0;31m---------------------------------------------------------------------------\u001b[0m",
      "\u001b[0;31mAttributeError\u001b[0m                            Traceback (most recent call last)",
      "Cell \u001b[0;32mIn[17], line 1\u001b[0m\n\u001b[0;32m----> 1\u001b[0m \u001b[43mA\u001b[49m\u001b[38;5;241;43m.\u001b[39;49m\u001b[43mpowerItEigenvalue\u001b[49m()\n",
      "\u001b[0;31mAttributeError\u001b[0m: 'Matrix' object has no attribute 'powerItEigenvalue'"
     ]
    }
   ],
   "source": [
    "A.powerItEigenvalue()"
   ]
  },
  {
   "cell_type": "code",
   "execution_count": null,
   "metadata": {},
   "outputs": [
    {
     "name": "stdout",
     "output_type": "stream",
     "text": [
      "(53381739969773106497712754601672776802094126319611,)\n",
      "(-130870992022850467942503902880721337007803889836747,)\n",
      "(-195693492803991659597171739470369088859007036220041,)\n"
     ]
    }
   ],
   "source": [
    "print(A.powerItEigenvalue()[1][0])"
   ]
  },
  {
   "cell_type": "code",
   "execution_count": null,
   "metadata": {},
   "outputs": [
    {
     "data": {
      "text/plain": [
       "(3, 3)"
      ]
     },
     "execution_count": 51,
     "metadata": {},
     "output_type": "execute_result"
    }
   ],
   "source": [
    "A.get_shape()"
   ]
  },
  {
   "cell_type": "code",
   "execution_count": null,
   "metadata": {},
   "outputs": [
    {
     "data": {
      "text/plain": [
       "((2, 1, -1), (-3, -1, 2), (-2, 1, 2))"
      ]
     },
     "execution_count": 52,
     "metadata": {},
     "output_type": "execute_result"
    }
   ],
   "source": [
    "A.get_values()"
   ]
  },
  {
   "cell_type": "code",
   "execution_count": null,
   "metadata": {},
   "outputs": [
    {
     "name": "stdout",
     "output_type": "stream",
     "text": [
      "(2, -1)\n",
      "(-2, 2)\n"
     ]
    }
   ],
   "source": [
    "print(A.getMinor(1, 1))"
   ]
  },
  {
   "cell_type": "code",
   "execution_count": null,
   "metadata": {},
   "outputs": [
    {
     "data": {
      "text/plain": [
       "-1"
      ]
     },
     "execution_count": 54,
     "metadata": {},
     "output_type": "execute_result"
    }
   ],
   "source": [
    "A.getDeterminant()"
   ]
  },
  {
   "cell_type": "code",
   "execution_count": null,
   "metadata": {},
   "outputs": [
    {
     "data": {
      "text/plain": [
       "array([[ 2,  1, -1],\n",
       "       [-3, -1,  2],\n",
       "       [-2,  1,  2]])"
      ]
     },
     "execution_count": 55,
     "metadata": {},
     "output_type": "execute_result"
    }
   ],
   "source": [
    "A.toArray()"
   ]
  },
  {
   "cell_type": "code",
   "execution_count": null,
   "metadata": {},
   "outputs": [
    {
     "data": {
      "text/plain": [
       "(<Matrices.Matrix.Matrix at 0x11f04d160>,\n",
       " <Matrices.Matrix.Matrix at 0x11f04f170>)"
      ]
     },
     "execution_count": 56,
     "metadata": {},
     "output_type": "execute_result"
    }
   ],
   "source": [
    "A.qr_decomposition()"
   ]
  },
  {
   "cell_type": "code",
   "execution_count": null,
   "metadata": {},
   "outputs": [
    {
     "data": {
      "text/plain": [
       "(<Matrices.Matrix.Matrix at 0x11f04f650>,\n",
       " [2.449489742783178, 3.605551275463989, 2.9481522228691595],\n",
       " <Matrices.Matrix.Matrix at 0x11f04cf50>)"
      ]
     },
     "execution_count": 57,
     "metadata": {},
     "output_type": "execute_result"
    }
   ],
   "source": [
    "A.svd_qr()"
   ]
  },
  {
   "cell_type": "code",
   "execution_count": null,
   "metadata": {},
   "outputs": [],
   "source": [
    "import matplotlib.pyplot as plt"
   ]
  },
  {
   "cell_type": "code",
   "execution_count": null,
   "metadata": {},
   "outputs": [],
   "source": [
    "import datetime"
   ]
  },
  {
   "cell_type": "code",
   "execution_count": null,
   "metadata": {},
   "outputs": [],
   "source": [
    "def executionTime(func, *args):\n",
    "    start = datetime.datetime.now()\n",
    "\n",
    "    func(*args)\n",
    "    end = datetime.datetime.now()\n",
    "    return end - start"
   ]
  },
  {
   "cell_type": "code",
   "execution_count": null,
   "metadata": {},
   "outputs": [
    {
     "name": "stdout",
     "output_type": "stream",
     "text": [
      "Matrix size:  10\n"
     ]
    },
    {
     "ename": "NameError",
     "evalue": "name 'executionTime' is not defined",
     "output_type": "error",
     "traceback": [
      "\u001b[0;31m---------------------------------------------------------------------------\u001b[0m",
      "\u001b[0;31mNameError\u001b[0m                                 Traceback (most recent call last)",
      "Cell \u001b[0;32mIn[9], line 17\u001b[0m\n\u001b[1;32m     14\u001b[0m \u001b[38;5;28mprint\u001b[39m(\u001b[38;5;124m\"\u001b[39m\u001b[38;5;124mMatrix size: \u001b[39m\u001b[38;5;124m\"\u001b[39m, i)\n\u001b[1;32m     16\u001b[0m \u001b[38;5;66;03m#values[\"power\"][\"values\"][i] = executionTime(mat.getSVD_power, m)\u001b[39;00m\n\u001b[0;32m---> 17\u001b[0m values[\u001b[38;5;124m\"\u001b[39m\u001b[38;5;124mqr\u001b[39m\u001b[38;5;124m\"\u001b[39m][\u001b[38;5;124m\"\u001b[39m\u001b[38;5;124mvalues\u001b[39m\u001b[38;5;124m\"\u001b[39m][i] \u001b[38;5;241m=\u001b[39m \u001b[43mexecutionTime\u001b[49m(mat\u001b[38;5;241m.\u001b[39mgetSVD_qr, m)\n\u001b[1;32m     18\u001b[0m values[\u001b[38;5;124m\"\u001b[39m\u001b[38;5;124mscipy\u001b[39m\u001b[38;5;124m\"\u001b[39m][\u001b[38;5;124m\"\u001b[39m\u001b[38;5;124mvalues\u001b[39m\u001b[38;5;124m\"\u001b[39m][i] \u001b[38;5;241m=\u001b[39m executionTime(m\u001b[38;5;241m.\u001b[39mscipyEigenvalues)\n\u001b[1;32m     19\u001b[0m values[\u001b[38;5;124m\"\u001b[39m\u001b[38;5;124mnumpy\u001b[39m\u001b[38;5;124m\"\u001b[39m][\u001b[38;5;124m\"\u001b[39m\u001b[38;5;124mvalues\u001b[39m\u001b[38;5;124m\"\u001b[39m][i] \u001b[38;5;241m=\u001b[39m executionTime(m\u001b[38;5;241m.\u001b[39mnumpyEigenvalues)\n",
      "\u001b[0;31mNameError\u001b[0m: name 'executionTime' is not defined"
     ]
    }
   ],
   "source": [
    "# values = {\"power\" : {\"values\" : {}, \"color\" : \"red\"},\n",
    "#           \"qr\" : {\"values\" : {}, \"color\" : \"green\"},\n",
    "#           \"scipy\" : {\"values\" : {}, \"color\" : \"blue\"}\n",
    "# }\n",
    "\n",
    "values = {\"qr\" : {\"values\" : {}, \"color\" : \"green\"},\n",
    "          \"scipy\" : {\"values\" : {}, \"color\" : \"blue\"},\n",
    "          \"numpy\" : {\"values\" : {}, \"color\" : \"yellow\"}\n",
    "}\n",
    "\n",
    "for i in range(10, 100, 10):\n",
    "    m = mat.Matrix.randintMatrix(i, i, 0, 10)\n",
    "    \n",
    "    print(\"Matrix size: \", i)\n",
    "    \n",
    "    #values[\"power\"][\"values\"][i] = executionTime(mat.getSVD_power, m)\n",
    "    values[\"qr\"][\"values\"][i] = executionTime(mat.getSVD_qr, m)\n",
    "    values[\"scipy\"][\"values\"][i] = executionTime(m.scipyEigenvalues)\n",
    "    values[\"numpy\"][\"values\"][i] = executionTime(m.numpyEigenvalues)\n",
    "\n",
    "# plot the values\n",
    "for key in values:\n",
    "    plt.plot(list(values[key][\"values\"].keys()), [value.total_seconds() for value in values[key][\"values\"].values()], color=values[key][\"color\"], label=key)\n",
    "\n",
    "plt.xlabel(\"Matrix size\")\n",
    "plt.ylabel(\"Execution time (s)\")\n",
    "plt.legend()\n",
    "plt.savefig(\"execution_time.png\")"
   ]
  }
 ],
 "metadata": {
  "kernelspec": {
   "display_name": "Python 3",
   "language": "python",
   "name": "python3"
  },
  "language_info": {
   "codemirror_mode": {
    "name": "ipython",
    "version": 3
   },
   "file_extension": ".py",
   "mimetype": "text/x-python",
   "name": "python",
   "nbconvert_exporter": "python",
   "pygments_lexer": "ipython3",
   "version": "3.12.2"
  }
 },
 "nbformat": 4,
 "nbformat_minor": 2
}

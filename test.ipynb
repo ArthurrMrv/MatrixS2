{
 "cells": [
  {
   "cell_type": "code",
   "execution_count": 1,
   "metadata": {},
   "outputs": [],
   "source": [
    "import Matrices as mat"
   ]
  },
  {
   "cell_type": "code",
   "execution_count": 2,
   "metadata": {},
   "outputs": [
    {
     "name": "stdout",
     "output_type": "stream",
     "text": [
      "Solution: [2.0, 3.0000000000000004, -0.9999999999999999]\n"
     ]
    }
   ],
   "source": [
    "def solve_linear_system(A, b):\n",
    "    # Construct augmented matrix [A | b]\n",
    "    augmented_matrix = [row + [bi] for row, bi in zip(A, b)]\n",
    "\n",
    "    # Gaussian Elimination\n",
    "    for i in range(len(augmented_matrix)-1):\n",
    "        pivot_row = max(range(i, len(augmented_matrix)), key=lambda j: abs(augmented_matrix[j][i]))\n",
    "        augmented_matrix[i], augmented_matrix[pivot_row] = augmented_matrix[pivot_row], augmented_matrix[i]\n",
    "        \n",
    "        pivot = augmented_matrix[i][i]\n",
    "        for j in range(i+1, len(augmented_matrix)):\n",
    "            factor = augmented_matrix[j][i] / pivot\n",
    "            for k in range(i, len(augmented_matrix[0])):\n",
    "                augmented_matrix[j][k] -= factor * augmented_matrix[i][k]\n",
    "\n",
    "    # Back Substitution\n",
    "    x = [0] * len(A[0])\n",
    "    for i in range(len(augmented_matrix)-1, -1, -1):\n",
    "        x[i] = augmented_matrix[i][-1]\n",
    "        for j in range(i+1, len(augmented_matrix[0])-1):\n",
    "            x[i] -= augmented_matrix[i][j] * x[j]\n",
    "        x[i] /= augmented_matrix[i][i]\n",
    "\n",
    "    return x\n",
    "\n",
    "# Example usage:\n",
    "A = [[2, 1, -1],\n",
    "     [-3, -1, 2],\n",
    "     [-2, 1, 2]]\n",
    "b = [8, -11, -3]\n",
    "\n",
    "solution = solve_linear_system(A, b)\n",
    "print(\"Solution:\", solution)\n"
   ]
  },
  {
   "cell_type": "code",
   "execution_count": 3,
   "metadata": {},
   "outputs": [
    {
     "name": "stdout",
     "output_type": "stream",
     "text": [
      "[0, 0, 0]\n",
      "[0, 1, 1]\n",
      "[1, 1, 1]\n"
     ]
    }
   ],
   "source": [
    "def threshold_matrix(matrix, threshold):\n",
    "    binary_matrix = []\n",
    "    for row in matrix:\n",
    "        binary_row = [1 if element >= threshold else 0 for element in row]\n",
    "        binary_matrix.append(binary_row)\n",
    "    return binary_matrix\n",
    "\n",
    "# Example usage:\n",
    "numerical_matrix = [\n",
    "    [1, 2, 3],\n",
    "    [4, 5, 6],\n",
    "    [7, 8, 9]\n",
    "]\n",
    "threshold = 5\n",
    "\n",
    "binary_matrix = threshold_matrix(numerical_matrix, threshold)\n",
    "for row in binary_matrix:\n",
    "    print(row)"
   ]
  },
  {
   "cell_type": "code",
   "execution_count": 4,
   "metadata": {},
   "outputs": [
    {
     "name": "stdout",
     "output_type": "stream",
     "text": [
      "(2, 1, -1)\n",
      "(-3, -1, 2)\n",
      "(-2, 1, 2)\n"
     ]
    }
   ],
   "source": [
    "A = mat.Matrix([\n",
    "    [2, 1, -1],\n",
    "    [-3, -1, 2],\n",
    "    [-2, 1, 2]\n",
    "    ])\n",
    "print(A)"
   ]
  },
  {
   "cell_type": "code",
   "execution_count": 5,
   "metadata": {},
   "outputs": [
    {
     "data": {
      "text/plain": [
       "([1.8998348262513458, -0.016454513764260745, 1.0106848761766047],\n",
       " [<Matrices.Vector.Vector at 0x107dc7ef0>,\n",
       "  <Matrices.Vector.Vector at 0x10daae270>,\n",
       "  <Matrices.Vector.Vector at 0x10d157ec0>])"
      ]
     },
     "execution_count": 5,
     "metadata": {},
     "output_type": "execute_result"
    }
   ],
   "source": [
    "mat.qr_algorithm(A)"
   ]
  },
  {
   "cell_type": "code",
   "execution_count": 6,
   "metadata": {},
   "outputs": [
    {
     "name": "stdout",
     "output_type": "stream",
     "text": [
      "(2, -3, -2)\n",
      "(1, -1, 1)\n",
      "(-1, 2, 2)\n"
     ]
    }
   ],
   "source": [
    "print(A.transpose())"
   ]
  },
  {
   "cell_type": "code",
   "execution_count": 8,
   "metadata": {},
   "outputs": [
    {
     "name": "stdout",
     "output_type": "stream",
     "text": [
      "(4, 3, -1)\n",
      "(-2, -2, 1)\n",
      "(5, 4, -1)\n"
     ]
    }
   ],
   "source": [
    "print(A.inverse().toInt())"
   ]
  },
  {
   "cell_type": "code",
   "execution_count": null,
   "metadata": {},
   "outputs": [
    {
     "data": {
      "text/plain": [
       "(3, 3)"
      ]
     },
     "execution_count": 51,
     "metadata": {},
     "output_type": "execute_result"
    }
   ],
   "source": [
    "A.get_shape()"
   ]
  },
  {
   "cell_type": "code",
   "execution_count": null,
   "metadata": {},
   "outputs": [
    {
     "data": {
      "text/plain": [
       "((2, 1, -1), (-3, -1, 2), (-2, 1, 2))"
      ]
     },
     "execution_count": 52,
     "metadata": {},
     "output_type": "execute_result"
    }
   ],
   "source": [
    "A.get_values()"
   ]
  },
  {
   "cell_type": "code",
   "execution_count": null,
   "metadata": {},
   "outputs": [
    {
     "name": "stdout",
     "output_type": "stream",
     "text": [
      "(2, -1)\n",
      "(-2, 2)\n"
     ]
    }
   ],
   "source": [
    "print(A.getMinor(1, 1))"
   ]
  },
  {
   "cell_type": "code",
   "execution_count": null,
   "metadata": {},
   "outputs": [
    {
     "data": {
      "text/plain": [
       "-1"
      ]
     },
     "execution_count": 54,
     "metadata": {},
     "output_type": "execute_result"
    }
   ],
   "source": [
    "A.getDeterminant()"
   ]
  },
  {
   "cell_type": "code",
   "execution_count": null,
   "metadata": {},
   "outputs": [
    {
     "data": {
      "text/plain": [
       "array([[ 2,  1, -1],\n",
       "       [-3, -1,  2],\n",
       "       [-2,  1,  2]])"
      ]
     },
     "execution_count": 55,
     "metadata": {},
     "output_type": "execute_result"
    }
   ],
   "source": [
    "A.toArray()"
   ]
  },
  {
   "cell_type": "code",
   "execution_count": 9,
   "metadata": {},
   "outputs": [
    {
     "data": {
      "text/plain": [
       "(<Matrices.Matrix.Matrix at 0x10d157a70>,\n",
       " <Matrices.Matrix.Matrix at 0x10db14e00>)"
      ]
     },
     "execution_count": 9,
     "metadata": {},
     "output_type": "execute_result"
    }
   ],
   "source": [
    "A.qr_decomposition()"
   ]
  },
  {
   "cell_type": "code",
   "execution_count": 10,
   "metadata": {},
   "outputs": [
    {
     "data": {
      "text/plain": [
       "(<Matrices.Matrix.Matrix at 0x10db39040>,\n",
       " [2.449489742783178, 3.605551275463989, 2.9481522228691595],\n",
       " <Matrices.Matrix.Matrix at 0x10db38d10>)"
      ]
     },
     "execution_count": 10,
     "metadata": {},
     "output_type": "execute_result"
    }
   ],
   "source": [
    "A.svd_qr()"
   ]
  },
  {
   "cell_type": "code",
   "execution_count": 11,
   "metadata": {},
   "outputs": [],
   "source": [
    "import matplotlib.pyplot as plt"
   ]
  },
  {
   "cell_type": "code",
   "execution_count": 12,
   "metadata": {},
   "outputs": [],
   "source": [
    "import datetime"
   ]
  },
  {
   "cell_type": "code",
   "execution_count": 13,
   "metadata": {},
   "outputs": [],
   "source": [
    "def executionTime(func, *args):\n",
    "    start = datetime.datetime.now()\n",
    "\n",
    "    func(*args)\n",
    "    end = datetime.datetime.now()\n",
    "    return end - start"
   ]
  },
  {
   "cell_type": "code",
   "execution_count": 18,
   "metadata": {},
   "outputs": [
    {
     "name": "stdout",
     "output_type": "stream",
     "text": [
      "Matrix size:  95"
     ]
    },
    {
     "data": {
      "image/png": "[encoded data removed]",
      "text/plain": [
       "<Figure size 640x480 with 1 Axes>"
      ]
     },
     "metadata": {},
     "output_type": "display_data"
    }
   ],
   "source": [
    "values = {\"qr\" : {\"values\" : {}, \"color\" : \"green\"},\n",
    "          \"scipy\" : {\"values\" : {}, \"color\" : \"blue\"},\n",
    "          \"numpy\" : {\"values\" : {}, \"color\" : \"yellow\"}\n",
    "}\n",
    "\n",
    "for i in range(10, 100, 5):\n",
    "    m = mat.Matrix.randintMatrix(i, i, 0, 10)\n",
    "    \n",
    "    print(\"\\rMatrix size: \", i, end='', flush=True)\n",
    "    \n",
    "    #values[\"power\"][\"values\"][i] = executionTime(mat.getSVD_power, m)\n",
    "    values[\"qr\"][\"values\"][i] = executionTime(mat.qr_algorithm, m)\n",
    "    values[\"scipy\"][\"values\"][i] = executionTime(m.scipyEigenvalues)\n",
    "    values[\"numpy\"][\"values\"][i] = executionTime(m.numpyEigenvalues)\n"
   ]
  },
  {
   "cell_type": "code",
   "execution_count": null,
   "metadata": {},
   "outputs": [],
   "source": [
    "# plot the values\n",
    "for key in values:\n",
    "    plt.plot(list(values[key][\"values\"].keys()), [value.total_seconds() for value in values[key][\"values\"].values()], color=values[key][\"color\"], label=key)\n",
    "\n",
    "plt.xlabel(\"Matrix size\")\n",
    "#log scale\n",
    "plt.yscale(\"log\")\n",
    "plt.ylabel(\"Execution time (s)\")\n",
    "plt.legend()\n",
    "plt.savefig(\"execution_time.png\")"
   ]
  }
 ],
 "metadata": {
  "kernelspec": {
   "display_name": "Python 3",
   "language": "python",
   "name": "python3"
  },
  "language_info": {
   "codemirror_mode": {
    "name": "ipython",
    "version": 3
   },
   "file_extension": ".py",
   "mimetype": "text/x-python",
   "name": "python",
   "nbconvert_exporter": "python",
   "pygments_lexer": "ipython3",
   "version": "3.12.2"
  }
 },
 "nbformat": 4,
 "nbformat_minor": 2
}
